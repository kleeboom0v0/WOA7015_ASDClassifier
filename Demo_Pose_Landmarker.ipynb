{
 "cells": [
  {
   "cell_type": "markdown",
   "metadata": {
    "id": "h2q27gKz1H20"
   },
   "source": [
    "##### Copyright 2023 The MediaPipe Authors. All Rights Reserved."
   ]
  },
  {
   "cell_type": "code",
   "execution_count": null,
   "metadata": {
    "cellView": "form",
    "id": "TUfAcER1oUS6"
   },
   "outputs": [],
   "source": [
    "#@title Licensed under the Apache License, Version 2.0 (the \"License\");\n",
    "# you may not use this file except in compliance with the License.\n",
    "# You may obtain a copy of the License at\n",
    "#\n",
    "# https://www.apache.org/licenses/LICENSE-2.0\n",
    "#\n",
    "# Unless required by applicable law or agreed to in writing, software\n",
    "# distributed under the License is distributed on an \"AS IS\" BASIS,\n",
    "# WITHOUT WARRANTIES OR CONDITIONS OF ANY KIND, either express or implied.\n",
    "# See the License for the specific language governing permissions and\n",
    "# limitations under the License."
   ]
  },
  {
   "cell_type": "markdown",
   "metadata": {
    "id": "L_cQX8dWu4Dv"
   },
   "source": [
    "# Pose Landmarks Detection with MediaPipe Tasks\n",
    "\n",
    "This notebook shows you how to use MediaPipe Tasks Python API to detect pose landmarks from images."
   ]
  },
  {
   "cell_type": "markdown",
   "metadata": {
    "id": "O6PN9FvIx614"
   },
   "source": [
    "## Preparation\n",
    "\n",
    "Let's start with installing MediaPipe.\n"
   ]
  },
  {
   "cell_type": "code",
   "execution_count": null,
   "metadata": {
    "id": "gxbHBsF-8Y_l"
   },
   "outputs": [],
   "source": [
    "!pip install -q mediapipe==0.10.0"
   ]
  },
  {
   "cell_type": "markdown",
   "metadata": {
    "id": "a49D7h4TVmru"
   },
   "source": [
    "Then download an off-the-shelf model bundle. Check out the [MediaPipe documentation](https://developers.google.com/mediapipe/solutions/vision/pose_landmarker#models) for more information about this model bundle."
   ]
  },
  {
   "cell_type": "code",
   "execution_count": 1,
   "metadata": {
    "id": "OMjuVQiDYJKF",
    "ExecuteTime": {
     "end_time": "2023-12-11T14:10:54.465361Z",
     "start_time": "2023-12-11T14:10:54.418461800Z"
    }
   },
   "outputs": [
    {
     "name": "stderr",
     "output_type": "stream",
     "text": [
      "'wget' 不是内部或外部命令，也不是可运行的程序\n",
      "或批处理文件。\n"
     ]
    }
   ],
   "source": [
    "!wget -O pose_landmarker.task -q https://storage.googleapis.com/mediapipe-models/pose_landmarker/pose_landmarker_heavy/float16/1/pose_landmarker_heavy.task"
   ]
  },
  {
   "cell_type": "code",
   "execution_count": 1,
   "outputs": [],
   "source": [
    "import cv2\n",
    "def cv2_imshow(img):\n",
    "  cv2.imshow('img',img)\n",
    "  cv2.waitKey(0)\n",
    "  cv2.destroyAllWindows()"
   ],
   "metadata": {
    "collapsed": false,
    "ExecuteTime": {
     "end_time": "2023-12-17T08:11:15.917818600Z",
     "start_time": "2023-12-17T08:11:15.687452900Z"
    }
   }
  },
  {
   "cell_type": "markdown",
   "metadata": {
    "id": "YYKAJ5nDU8-I"
   },
   "source": [
    "## Visualization utilities"
   ]
  },
  {
   "cell_type": "code",
   "execution_count": 14,
   "metadata": {
    "id": "s3E6NFV-00Qt",
    "ExecuteTime": {
     "end_time": "2023-12-17T09:33:41.603901400Z",
     "start_time": "2023-12-17T09:33:41.589837Z"
    }
   },
   "outputs": [],
   "source": [
    "#@markdown To better demonstrate the Pose Landmarker API, we have created a set of visualization tools that will be used in this colab. These will draw the landmarks on a detect person, as well as the expected connections between those markers.\n",
    "\n",
    "from mediapipe import solutions\n",
    "from mediapipe.framework.formats import landmark_pb2\n",
    "import numpy as np\n",
    "\n",
    "\n",
    "def draw_landmarks_on_image(rgb_image, detection_result):\n",
    "  pose_landmarks_list = detection_result.pose_landmarks\n",
    "  annotated_image = np.copy(rgb_image)\n",
    "\n",
    "  # Loop through the detected poses to visualize.\n",
    "  for idx in range(len(pose_landmarks_list)):\n",
    "    pose_landmarks = pose_landmarks_list[idx]\n",
    "\n",
    "    # Draw the pose landmarks.\n",
    "    pose_landmarks_proto = landmark_pb2.NormalizedLandmarkList()\n",
    "    pose_landmarks_proto.landmark.extend([\n",
    "      landmark_pb2.NormalizedLandmark(x=landmark.x, y=landmark.y, z=landmark.z) for landmark in pose_landmarks\n",
    "    ])\n",
    "    solutions.drawing_utils.draw_landmarks(\n",
    "      annotated_image,\n",
    "      pose_landmarks_proto,\n",
    "      solutions.pose.POSE_CONNECTIONS,\n",
    "      solutions.drawing_styles.get_default_pose_landmarks_style())\n",
    "  return annotated_image"
   ]
  },
  {
   "cell_type": "markdown",
   "metadata": {
    "id": "83PEJNp9yPBU"
   },
   "source": [
    "## Download test image\n",
    "\n",
    "To demonstrate the Pose Landmarker API, you can download a sample image using the follow code. The image is from [Pixabay](https://pixabay.com/photos/girl-woman-fitness-beautiful-smile-4051811/)."
   ]
  },
  {
   "cell_type": "code",
   "execution_count": 3,
   "metadata": {
    "id": "tzXuqyIBlXer",
    "ExecuteTime": {
     "end_time": "2023-12-17T08:11:25.305528700Z",
     "start_time": "2023-12-17T08:11:20.450022900Z"
    }
   },
   "outputs": [],
   "source": [
    "# !wget -q -O image.jpg https://cdn.pixabay.com/photo/2019/03/12/20/39/girl-4051811_960_720.jpg\n",
    "\n",
    "import cv2\n",
    "\n",
    "img = cv2.imread(\"img.png\")\n",
    "cv2_imshow(img)"
   ]
  },
  {
   "cell_type": "markdown",
   "metadata": {
    "id": "u-skLwMBmMN_"
   },
   "source": [
    "Optionally, you can upload your own image. If you want to do so, uncomment and run the cell below."
   ]
  },
  {
   "cell_type": "code",
   "execution_count": null,
   "metadata": {
    "id": "etBjSdwImQPw"
   },
   "outputs": [],
   "source": [
    "# from google.colab import files\n",
    "# uploaded = files.upload()\n",
    "\n",
    "# for filename in uploaded:\n",
    "#   content = uploaded[filename]\n",
    "#   with open(filename, 'wb') as f:\n",
    "#     f.write(content)\n",
    "\n",
    "# if len(uploaded.keys()):\n",
    "#   IMAGE_FILE = next(iter(uploaded))\n",
    "#   print('Uploaded file:', IMAGE_FILE)"
   ]
  },
  {
   "cell_type": "markdown",
   "metadata": {
    "id": "Iy4r2_ePylIa"
   },
   "source": [
    "## Running inference and visualizing the results\n",
    "\n",
    "The final step is to run pose landmark detection on your selected image. This involves creating your PoseLandmarker object, loading your image, running detection, and finally, the optional step of displaying the image with visualizations.\n",
    "\n",
    "Check out the [MediaPipe documentation](https://developers.google.com/mediapipe/solutions/vision/pose_landmarker/python) to learn more about configuration options that this solution supports.\n"
   ]
  },
  {
   "cell_type": "code",
   "execution_count": 15,
   "metadata": {
    "id": "_JVO3rvPD4RN",
    "ExecuteTime": {
     "end_time": "2023-12-17T09:33:46.864596100Z",
     "start_time": "2023-12-17T09:33:44.509066500Z"
    }
   },
   "outputs": [
    {
     "name": "stdout",
     "output_type": "stream",
     "text": [
      "[NormalizedLandmark(x=0.6028109192848206, y=0.2701157331466675, z=-0.5310667753219604, visibility=0.9981817007064819, presence=0.9990414977073669), NormalizedLandmark(x=0.6275792717933655, y=0.23731720447540283, z=-0.5424365997314453, visibility=0.9975064396858215, presence=0.9981683492660522), NormalizedLandmark(x=0.6417850852012634, y=0.24012374877929688, z=-0.5430251955986023, visibility=0.9967545866966248, presence=0.9980812072753906), NormalizedLandmark(x=0.6598825454711914, y=0.24327054619789124, z=-0.5430060625076294, visibility=0.9976146221160889, presence=0.9971221089363098), NormalizedLandmark(x=0.6039753556251526, y=0.22640973329544067, z=-0.5101770162582397, visibility=0.998744010925293, presence=0.9985085129737854), NormalizedLandmark(x=0.6005315184593201, y=0.22323334217071533, z=-0.5111932158470154, visibility=0.9989618062973022, presence=0.9990083575248718), NormalizedLandmark(x=0.5981003046035767, y=0.2205480933189392, z=-0.5119557976722717, visibility=0.9993667006492615, presence=0.9989914298057556), NormalizedLandmark(x=0.7105502486228943, y=0.24183493852615356, z=-0.4752287268638611, visibility=0.9982926249504089, presence=0.9973983764648438), NormalizedLandmark(x=0.6293746829032898, y=0.22284573316574097, z=-0.33107420802116394, visibility=0.9992278814315796, presence=0.9993880987167358), NormalizedLandmark(x=0.6459430456161499, y=0.3136998116970062, z=-0.49107033014297485, visibility=0.9983641505241394, presence=0.9991683959960938), NormalizedLandmark(x=0.6073257923126221, y=0.30159494280815125, z=-0.4535781443119049, visibility=0.9984118938446045, presence=0.9989827275276184), NormalizedLandmark(x=0.8138688802719116, y=0.44571658968925476, z=-0.47458478808403015, visibility=0.9996328353881836, presence=0.9997127652168274), NormalizedLandmark(x=0.6015615463256836, y=0.3299664258956909, z=-0.12564724683761597, visibility=0.9998964071273804, presence=0.9999797344207764), NormalizedLandmark(x=0.7008744478225708, y=0.7459375262260437, z=-0.5380692481994629, visibility=0.8782501220703125, presence=0.9905579090118408), NormalizedLandmark(x=0.4026584327220917, y=0.498503178358078, z=-0.14213842153549194, visibility=0.4158680737018585, presence=0.999731719493866), NormalizedLandmark(x=0.43646132946014404, y=0.6998804807662964, z=-0.5227862596511841, visibility=0.8415892124176025, presence=0.9992514252662659), NormalizedLandmark(x=0.1674264669418335, y=0.5443764328956604, z=-0.3298828601837158, visibility=0.7769675850868225, presence=0.9996488094329834), NormalizedLandmark(x=0.36476731300354004, y=0.7057557702064514, z=-0.553823709487915, visibility=0.8016481995582581, presence=0.9978658556938171), NormalizedLandmark(x=0.08304345607757568, y=0.5602306127548218, z=-0.35437527298927307, visibility=0.7759062647819519, presence=0.9984380602836609), NormalizedLandmark(x=0.3689901530742645, y=0.6792185306549072, z=-0.5589602589607239, visibility=0.8125259280204773, presence=0.9979648590087891), NormalizedLandmark(x=0.09869951009750366, y=0.5829590559005737, z=-0.40209105610847473, visibility=0.7932711243629456, presence=0.9985567927360535), NormalizedLandmark(x=0.3923843502998352, y=0.6729002594947815, z=-0.5199403166770935, visibility=0.790788471698761, presence=0.9989598989486694), NormalizedLandmark(x=0.13558995723724365, y=0.5939902067184448, z=-0.35528266429901123, visibility=0.7796096801757812, presence=0.9995597004890442), NormalizedLandmark(x=0.7177136540412903, y=0.8487712740898132, z=-0.13382257521152496, visibility=0.999226450920105, presence=0.9995664954185486), NormalizedLandmark(x=0.6016772985458374, y=0.7436733841896057, z=0.13310174643993378, visibility=0.9997416138648987, presence=0.9999347925186157), NormalizedLandmark(x=0.38539350032806396, y=0.8123524785041809, z=-0.2263900339603424, visibility=0.6421253085136414, presence=0.9960291385650635), NormalizedLandmark(x=0.3319874703884125, y=0.6279202699661255, z=0.12858052551746368, visibility=0.48362448811531067, presence=0.9993287324905396), NormalizedLandmark(x=0.24794182181358337, y=0.8162873387336731, z=0.1544640064239502, visibility=0.10259868204593658, presence=0.9831372499465942), NormalizedLandmark(x=0.368661105632782, y=0.8609303832054138, z=-0.038151662796735764, visibility=0.16311825811862946, presence=0.9871042370796204), NormalizedLandmark(x=0.2674647569656372, y=0.8318188190460205, z=0.20492775738239288, visibility=0.21758070588111877, presence=0.9617445468902588), NormalizedLandmark(x=0.41276732087135315, y=0.9226722121238708, z=-0.04767557978630066, visibility=0.26015928387641907, presence=0.9820234179496765), NormalizedLandmark(x=0.07336157560348511, y=0.7641099095344543, z=0.31235289573669434, visibility=0.16047309339046478, presence=0.9449850916862488), NormalizedLandmark(x=0.2531243562698364, y=0.882843017578125, z=-0.036345917731523514, visibility=0.21178466081619263, presence=0.9277762770652771)]\n"
     ]
    }
   ],
   "source": [
    "# STEP 1: Import the necessary modules.\n",
    "import mediapipe as mp\n",
    "from mediapipe.tasks import python\n",
    "from mediapipe.tasks.python import vision\n",
    "\n",
    "# STEP 2: Create an PoseLandmarker object.\n",
    "base_options = python.BaseOptions(model_asset_path='pose_landmarker_heavy.task')\n",
    "options = vision.PoseLandmarkerOptions(\n",
    "    base_options=base_options,\n",
    "    output_segmentation_masks=True,\n",
    "    min_pose_detection_confidence= 0.5,\n",
    "    min_pose_presence_confidence=0.7\n",
    ")\n",
    "detector = vision.PoseLandmarker.create_from_options(options)\n",
    "\n",
    "# STEP 3: Load the input image.\n",
    "image = mp.Image.create_from_file(\"img.png\")\n",
    "\n",
    "# STEP 4: Detect pose landmarks from the input image.\n",
    "detection_result = detector.detect(image)\n",
    "print(detection_result.pose_landmarks[0])\n",
    "# STEP 5: Process the detection result. In this case, visualize it.\n",
    "annotated_image = draw_landmarks_on_image(image.numpy_view(), detection_result)\n",
    "cv2_imshow(cv2.cvtColor(annotated_image, cv2.COLOR_RGB2BGR))"
   ]
  },
  {
   "cell_type": "markdown",
   "source": [
    "Visualize the pose segmentation mask."
   ],
   "metadata": {
    "id": "_BwzFvaxwtPX"
   }
  },
  {
   "cell_type": "code",
   "source": [
    "segmentation_mask = detection_result.segmentation_masks[0].numpy_view()\n",
    "visualized_mask = np.repeat(segmentation_mask[:, :, np.newaxis], 3, axis=2) * 255\n",
    "cv2_imshow(visualized_mask)"
   ],
   "metadata": {
    "id": "3jAIFzw9M3JJ",
    "ExecuteTime": {
     "end_time": "2023-12-13T14:05:28.700663500Z",
     "start_time": "2023-12-13T14:05:20.222486700Z"
    }
   },
   "execution_count": 5,
   "outputs": []
  },
  {
   "cell_type": "code",
   "source": [],
   "metadata": {
    "id": "QipRi2ozw7cg"
   },
   "execution_count": null,
   "outputs": []
  }
 ],
 "metadata": {
  "colab": {
   "provenance": []
  },
  "kernelspec": {
   "display_name": "Python 3 (ipykernel)",
   "language": "python",
   "name": "python3"
  },
  "language_info": {
   "codemirror_mode": {
    "name": "ipython",
    "version": 3
   },
   "file_extension": ".py",
   "mimetype": "text/x-python",
   "name": "python",
   "nbconvert_exporter": "python",
   "pygments_lexer": "ipython3",
   "version": "3.8.10"
  }
 },
 "nbformat": 4,
 "nbformat_minor": 0
}
